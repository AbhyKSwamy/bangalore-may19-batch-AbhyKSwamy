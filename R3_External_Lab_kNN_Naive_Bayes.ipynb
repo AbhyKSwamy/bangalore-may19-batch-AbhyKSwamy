{
 "cells": [
  {
   "cell_type": "code",
   "execution_count": 1,
   "metadata": {
    "colab": {},
    "colab_type": "code",
    "id": "tgurv7cNHunL",
    "scrolled": false
   },
   "outputs": [],
   "source": [
    "import warnings \n",
    "warnings.filterwarnings('ignore')\n",
    "import pandas as pd\n",
    "import numpy as np\n",
    "from matplotlib import pyplot as plt\n",
    "%matplotlib inline\n",
    "from sklearn import datasets\n",
    "from sklearn.decomposition import PCA\n",
    "from sklearn.naive_bayes import GaussianNB, BernoulliNB, MultinomialNB"
   ]
  },
  {
   "cell_type": "code",
   "execution_count": null,
   "metadata": {},
   "outputs": [],
   "source": []
  },
  {
   "cell_type": "markdown",
   "metadata": {
    "colab_type": "text",
    "id": "rrfjYa2HHunT"
   },
   "source": [
    "## K-Nearest-Neighbors"
   ]
  },
  {
   "cell_type": "markdown",
   "metadata": {
    "colab_type": "text",
    "id": "Apk3bnmwHunW"
   },
   "source": [
    "KNN falls in the supervised learning family of algorithms. Informally, this means that we are given a labelled dataset consiting of training observations (x,y) and would like to capture the relationship between x and y. More formally, our goal is to learn a function h:X→Y so that given an unseen observation x, h(x) can confidently predict the corresponding output y.\n",
    "\n",
    "In this module we will explore the inner workings of KNN, choosing the optimal K values and using KNN from scikit-learn."
   ]
  },
  {
   "cell_type": "markdown",
   "metadata": {
    "colab_type": "text",
    "id": "mezpuK1ZHunX"
   },
   "source": [
    "## Overview\n",
    "\n",
    "1.Read the problem statement.\n",
    "\n",
    "2.Get the dataset.\n",
    "\n",
    "3.Explore the dataset.\n",
    "\n",
    "4.Pre-processing of dataset.\n",
    "\n",
    "5.Visualization\n",
    "\n",
    "6.Transform the dataset for building machine learning model.\n",
    "\n",
    "7.Split data into train, test set.\n",
    "\n",
    "7.Build Model.\n",
    "\n",
    "8.Apply the model.\n",
    "\n",
    "9.Evaluate the model.\n",
    "\n",
    "10.Finding Optimal K value\n",
    "\n",
    "11.Repeat 7,8,9 steps."
   ]
  },
  {
   "cell_type": "markdown",
   "metadata": {
    "colab_type": "text",
    "id": "6SA8iHIbHunZ"
   },
   "source": [
    "## Problem statement\n",
    "\n",
    "### Dataset\n",
    "\n",
    "The data set we’ll be using is the Iris Flower Dataset which was first introduced in 1936 by the famous statistician Ronald Fisher and consists of 50 observations from each of three species of Iris (Iris setosa, Iris virginica and Iris versicolor). Four features were measured from each sample: the length and the width of the sepals and petals.\n",
    "\n",
    "**Attributes of the dataset:** https://archive.ics.uci.edu/ml/datasets/Iris\n",
    "\n",
    "**Train the KNN algorithm to be able to distinguish the species from one another given the measurements of the 4 features.**"
   ]
  },
  {
   "cell_type": "markdown",
   "metadata": {
    "colab_type": "text",
    "id": "-wa55vNkHuna"
   },
   "source": [
    "## Question 1\n",
    "\n",
    "Import the data set and print 10 random rows from the data set"
   ]
  },
  {
   "cell_type": "code",
   "execution_count": 2,
   "metadata": {
    "colab": {},
    "colab_type": "code",
    "id": "sRB61Z9rHunc"
   },
   "outputs": [
    {
     "data": {
      "text/html": [
       "<div>\n",
       "<style scoped>\n",
       "    .dataframe tbody tr th:only-of-type {\n",
       "        vertical-align: middle;\n",
       "    }\n",
       "\n",
       "    .dataframe tbody tr th {\n",
       "        vertical-align: top;\n",
       "    }\n",
       "\n",
       "    .dataframe thead th {\n",
       "        text-align: right;\n",
       "    }\n",
       "</style>\n",
       "<table border=\"1\" class=\"dataframe\">\n",
       "  <thead>\n",
       "    <tr style=\"text-align: right;\">\n",
       "      <th></th>\n",
       "      <th>Sepal Length (in cm)</th>\n",
       "      <th>Sepal Width in (cm)</th>\n",
       "      <th>Petal length (in cm)</th>\n",
       "      <th>Petal width (in cm)</th>\n",
       "      <th>Class</th>\n",
       "    </tr>\n",
       "  </thead>\n",
       "  <tbody>\n",
       "    <tr>\n",
       "      <th>97</th>\n",
       "      <td>6.2</td>\n",
       "      <td>2.9</td>\n",
       "      <td>4.3</td>\n",
       "      <td>1.3</td>\n",
       "      <td>Iris-versicolor</td>\n",
       "    </tr>\n",
       "    <tr>\n",
       "      <th>40</th>\n",
       "      <td>5.0</td>\n",
       "      <td>3.5</td>\n",
       "      <td>1.3</td>\n",
       "      <td>0.3</td>\n",
       "      <td>Iris-setosa</td>\n",
       "    </tr>\n",
       "    <tr>\n",
       "      <th>50</th>\n",
       "      <td>7.0</td>\n",
       "      <td>3.2</td>\n",
       "      <td>4.7</td>\n",
       "      <td>1.4</td>\n",
       "      <td>Iris-versicolor</td>\n",
       "    </tr>\n",
       "    <tr>\n",
       "      <th>102</th>\n",
       "      <td>7.1</td>\n",
       "      <td>3.0</td>\n",
       "      <td>5.9</td>\n",
       "      <td>2.1</td>\n",
       "      <td>Iris-virginica</td>\n",
       "    </tr>\n",
       "    <tr>\n",
       "      <th>90</th>\n",
       "      <td>5.5</td>\n",
       "      <td>2.6</td>\n",
       "      <td>4.4</td>\n",
       "      <td>1.2</td>\n",
       "      <td>Iris-versicolor</td>\n",
       "    </tr>\n",
       "    <tr>\n",
       "      <th>31</th>\n",
       "      <td>5.4</td>\n",
       "      <td>3.4</td>\n",
       "      <td>1.5</td>\n",
       "      <td>0.4</td>\n",
       "      <td>Iris-setosa</td>\n",
       "    </tr>\n",
       "    <tr>\n",
       "      <th>66</th>\n",
       "      <td>5.6</td>\n",
       "      <td>3.0</td>\n",
       "      <td>4.5</td>\n",
       "      <td>1.5</td>\n",
       "      <td>Iris-versicolor</td>\n",
       "    </tr>\n",
       "    <tr>\n",
       "      <th>32</th>\n",
       "      <td>5.2</td>\n",
       "      <td>4.1</td>\n",
       "      <td>1.5</td>\n",
       "      <td>0.1</td>\n",
       "      <td>Iris-setosa</td>\n",
       "    </tr>\n",
       "    <tr>\n",
       "      <th>122</th>\n",
       "      <td>7.7</td>\n",
       "      <td>2.8</td>\n",
       "      <td>6.7</td>\n",
       "      <td>2.0</td>\n",
       "      <td>Iris-virginica</td>\n",
       "    </tr>\n",
       "    <tr>\n",
       "      <th>144</th>\n",
       "      <td>6.7</td>\n",
       "      <td>3.3</td>\n",
       "      <td>5.7</td>\n",
       "      <td>2.5</td>\n",
       "      <td>Iris-virginica</td>\n",
       "    </tr>\n",
       "  </tbody>\n",
       "</table>\n",
       "</div>"
      ],
      "text/plain": [
       "     Sepal Length (in cm)  Sepal Width in (cm)  Petal length (in cm)  \\\n",
       "97                    6.2                  2.9                   4.3   \n",
       "40                    5.0                  3.5                   1.3   \n",
       "50                    7.0                  3.2                   4.7   \n",
       "102                   7.1                  3.0                   5.9   \n",
       "90                    5.5                  2.6                   4.4   \n",
       "31                    5.4                  3.4                   1.5   \n",
       "66                    5.6                  3.0                   4.5   \n",
       "32                    5.2                  4.1                   1.5   \n",
       "122                   7.7                  2.8                   6.7   \n",
       "144                   6.7                  3.3                   5.7   \n",
       "\n",
       "     Petal width (in cm)            Class  \n",
       "97                   1.3  Iris-versicolor  \n",
       "40                   0.3      Iris-setosa  \n",
       "50                   1.4  Iris-versicolor  \n",
       "102                  2.1   Iris-virginica  \n",
       "90                   1.2  Iris-versicolor  \n",
       "31                   0.4      Iris-setosa  \n",
       "66                   1.5  Iris-versicolor  \n",
       "32                   0.1      Iris-setosa  \n",
       "122                  2.0   Iris-virginica  \n",
       "144                  2.5   Iris-virginica  "
      ]
     },
     "execution_count": 2,
     "metadata": {},
     "output_type": "execute_result"
    }
   ],
   "source": [
    "import pandas as pd\n",
    "df= pd.read_csv(\"Iris.csv\")\n",
    "df.sample(10)"
   ]
  },
  {
   "cell_type": "markdown",
   "metadata": {
    "colab_type": "text",
    "id": "b9C0p94MHunh"
   },
   "source": [
    "## Data Pre-processing"
   ]
  },
  {
   "cell_type": "markdown",
   "metadata": {
    "colab_type": "text",
    "id": "jGECp-6FHunj"
   },
   "source": [
    "## Question 2 - Estimating missing values\n",
    "\n",
    "*Its not good to remove the records having missing values all the time. We may end up loosing some data points. So, we will have to see how to replace those missing values with some estimated values (median) *"
   ]
  },
  {
   "cell_type": "code",
   "execution_count": 3,
   "metadata": {
    "colab": {},
    "colab_type": "code",
    "id": "O_dYSD1zHunl"
   },
   "outputs": [
    {
     "name": "stdout",
     "output_type": "stream",
     "text": [
      "0\n",
      "0\n",
      "0\n",
      "0\n",
      "Sepal Length (in cm)    float64\n",
      "Sepal Width in (cm)     float64\n",
      "Petal length (in cm)    float64\n",
      "Petal width (in cm)     float64\n",
      "Class                    object\n",
      "dtype: object\n",
      "(150, 5)\n"
     ]
    }
   ],
   "source": [
    "print (df[\"Sepal Length (in cm)\"].isnull().sum())\n",
    "print (df[\"Sepal Width in (cm)\"].isnull().sum())\n",
    "print (df[\"Petal length (in cm)\"].isnull().sum())\n",
    "print (df[\"Petal width (in cm)\"].isnull().sum())\n",
    "#no missing values in the dataset \n",
    "print (df.dtypes)\n",
    "print (df.shape)"
   ]
  },
  {
   "cell_type": "code",
   "execution_count": 4,
   "metadata": {},
   "outputs": [
    {
     "data": {
      "text/html": [
       "<div>\n",
       "<style scoped>\n",
       "    .dataframe tbody tr th:only-of-type {\n",
       "        vertical-align: middle;\n",
       "    }\n",
       "\n",
       "    .dataframe tbody tr th {\n",
       "        vertical-align: top;\n",
       "    }\n",
       "\n",
       "    .dataframe thead th {\n",
       "        text-align: right;\n",
       "    }\n",
       "</style>\n",
       "<table border=\"1\" class=\"dataframe\">\n",
       "  <thead>\n",
       "    <tr style=\"text-align: right;\">\n",
       "      <th></th>\n",
       "      <th>count</th>\n",
       "      <th>mean</th>\n",
       "      <th>std</th>\n",
       "      <th>min</th>\n",
       "      <th>25%</th>\n",
       "      <th>50%</th>\n",
       "      <th>75%</th>\n",
       "      <th>max</th>\n",
       "    </tr>\n",
       "  </thead>\n",
       "  <tbody>\n",
       "    <tr>\n",
       "      <th>Sepal Length (in cm)</th>\n",
       "      <td>150.0</td>\n",
       "      <td>5.843333</td>\n",
       "      <td>0.828066</td>\n",
       "      <td>4.3</td>\n",
       "      <td>5.1</td>\n",
       "      <td>5.80</td>\n",
       "      <td>6.4</td>\n",
       "      <td>7.9</td>\n",
       "    </tr>\n",
       "    <tr>\n",
       "      <th>Sepal Width in (cm)</th>\n",
       "      <td>150.0</td>\n",
       "      <td>3.054000</td>\n",
       "      <td>0.433594</td>\n",
       "      <td>2.0</td>\n",
       "      <td>2.8</td>\n",
       "      <td>3.00</td>\n",
       "      <td>3.3</td>\n",
       "      <td>4.4</td>\n",
       "    </tr>\n",
       "    <tr>\n",
       "      <th>Petal length (in cm)</th>\n",
       "      <td>150.0</td>\n",
       "      <td>3.758667</td>\n",
       "      <td>1.764420</td>\n",
       "      <td>1.0</td>\n",
       "      <td>1.6</td>\n",
       "      <td>4.35</td>\n",
       "      <td>5.1</td>\n",
       "      <td>6.9</td>\n",
       "    </tr>\n",
       "    <tr>\n",
       "      <th>Petal width (in cm)</th>\n",
       "      <td>150.0</td>\n",
       "      <td>1.198667</td>\n",
       "      <td>0.763161</td>\n",
       "      <td>0.1</td>\n",
       "      <td>0.3</td>\n",
       "      <td>1.30</td>\n",
       "      <td>1.8</td>\n",
       "      <td>2.5</td>\n",
       "    </tr>\n",
       "  </tbody>\n",
       "</table>\n",
       "</div>"
      ],
      "text/plain": [
       "                      count      mean       std  min  25%   50%  75%  max\n",
       "Sepal Length (in cm)  150.0  5.843333  0.828066  4.3  5.1  5.80  6.4  7.9\n",
       "Sepal Width in (cm)   150.0  3.054000  0.433594  2.0  2.8  3.00  3.3  4.4\n",
       "Petal length (in cm)  150.0  3.758667  1.764420  1.0  1.6  4.35  5.1  6.9\n",
       "Petal width (in cm)   150.0  1.198667  0.763161  0.1  0.3  1.30  1.8  2.5"
      ]
     },
     "execution_count": 4,
     "metadata": {},
     "output_type": "execute_result"
    }
   ],
   "source": [
    "df.describe().transpose()"
   ]
  },
  {
   "cell_type": "markdown",
   "metadata": {
    "colab_type": "text",
    "id": "Lzf0ZdGMHunq"
   },
   "source": [
    "## Question 3 - Dealing with categorical data\n",
    "\n",
    "Change all the classes to numericals (0to2)."
   ]
  },
  {
   "cell_type": "code",
   "execution_count": 5,
   "metadata": {
    "colab": {},
    "colab_type": "code",
    "id": "C6rpSp2yHuns"
   },
   "outputs": [
    {
     "name": "stdout",
     "output_type": "stream",
     "text": [
      "Sepal Length (in cm)    float64\n",
      "Sepal Width in (cm)     float64\n",
      "Petal length (in cm)    float64\n",
      "Petal width (in cm)     float64\n",
      "Class                      int8\n",
      "dtype: object\n"
     ]
    },
    {
     "data": {
      "text/html": [
       "<div>\n",
       "<style scoped>\n",
       "    .dataframe tbody tr th:only-of-type {\n",
       "        vertical-align: middle;\n",
       "    }\n",
       "\n",
       "    .dataframe tbody tr th {\n",
       "        vertical-align: top;\n",
       "    }\n",
       "\n",
       "    .dataframe thead th {\n",
       "        text-align: right;\n",
       "    }\n",
       "</style>\n",
       "<table border=\"1\" class=\"dataframe\">\n",
       "  <thead>\n",
       "    <tr style=\"text-align: right;\">\n",
       "      <th></th>\n",
       "      <th>Sepal Length (in cm)</th>\n",
       "      <th>Sepal Width in (cm)</th>\n",
       "      <th>Petal length (in cm)</th>\n",
       "      <th>Petal width (in cm)</th>\n",
       "      <th>Class</th>\n",
       "    </tr>\n",
       "  </thead>\n",
       "  <tbody>\n",
       "    <tr>\n",
       "      <th>144</th>\n",
       "      <td>6.7</td>\n",
       "      <td>3.3</td>\n",
       "      <td>5.7</td>\n",
       "      <td>2.5</td>\n",
       "      <td>2</td>\n",
       "    </tr>\n",
       "    <tr>\n",
       "      <th>69</th>\n",
       "      <td>5.6</td>\n",
       "      <td>2.5</td>\n",
       "      <td>3.9</td>\n",
       "      <td>1.1</td>\n",
       "      <td>1</td>\n",
       "    </tr>\n",
       "    <tr>\n",
       "      <th>27</th>\n",
       "      <td>5.2</td>\n",
       "      <td>3.5</td>\n",
       "      <td>1.5</td>\n",
       "      <td>0.2</td>\n",
       "      <td>0</td>\n",
       "    </tr>\n",
       "    <tr>\n",
       "      <th>7</th>\n",
       "      <td>5.0</td>\n",
       "      <td>3.4</td>\n",
       "      <td>1.5</td>\n",
       "      <td>0.2</td>\n",
       "      <td>0</td>\n",
       "    </tr>\n",
       "    <tr>\n",
       "      <th>58</th>\n",
       "      <td>6.6</td>\n",
       "      <td>2.9</td>\n",
       "      <td>4.6</td>\n",
       "      <td>1.3</td>\n",
       "      <td>1</td>\n",
       "    </tr>\n",
       "    <tr>\n",
       "      <th>32</th>\n",
       "      <td>5.2</td>\n",
       "      <td>4.1</td>\n",
       "      <td>1.5</td>\n",
       "      <td>0.1</td>\n",
       "      <td>0</td>\n",
       "    </tr>\n",
       "    <tr>\n",
       "      <th>118</th>\n",
       "      <td>7.7</td>\n",
       "      <td>2.6</td>\n",
       "      <td>6.9</td>\n",
       "      <td>2.3</td>\n",
       "      <td>2</td>\n",
       "    </tr>\n",
       "    <tr>\n",
       "      <th>85</th>\n",
       "      <td>6.0</td>\n",
       "      <td>3.4</td>\n",
       "      <td>4.5</td>\n",
       "      <td>1.6</td>\n",
       "      <td>1</td>\n",
       "    </tr>\n",
       "    <tr>\n",
       "      <th>86</th>\n",
       "      <td>6.7</td>\n",
       "      <td>3.1</td>\n",
       "      <td>4.7</td>\n",
       "      <td>1.5</td>\n",
       "      <td>1</td>\n",
       "    </tr>\n",
       "    <tr>\n",
       "      <th>25</th>\n",
       "      <td>5.0</td>\n",
       "      <td>3.0</td>\n",
       "      <td>1.6</td>\n",
       "      <td>0.2</td>\n",
       "      <td>0</td>\n",
       "    </tr>\n",
       "    <tr>\n",
       "      <th>55</th>\n",
       "      <td>5.7</td>\n",
       "      <td>2.8</td>\n",
       "      <td>4.5</td>\n",
       "      <td>1.3</td>\n",
       "      <td>1</td>\n",
       "    </tr>\n",
       "    <tr>\n",
       "      <th>103</th>\n",
       "      <td>6.3</td>\n",
       "      <td>2.9</td>\n",
       "      <td>5.6</td>\n",
       "      <td>1.8</td>\n",
       "      <td>2</td>\n",
       "    </tr>\n",
       "    <tr>\n",
       "      <th>21</th>\n",
       "      <td>5.1</td>\n",
       "      <td>3.7</td>\n",
       "      <td>1.5</td>\n",
       "      <td>0.4</td>\n",
       "      <td>0</td>\n",
       "    </tr>\n",
       "  </tbody>\n",
       "</table>\n",
       "</div>"
      ],
      "text/plain": [
       "     Sepal Length (in cm)  Sepal Width in (cm)  Petal length (in cm)  \\\n",
       "144                   6.7                  3.3                   5.7   \n",
       "69                    5.6                  2.5                   3.9   \n",
       "27                    5.2                  3.5                   1.5   \n",
       "7                     5.0                  3.4                   1.5   \n",
       "58                    6.6                  2.9                   4.6   \n",
       "32                    5.2                  4.1                   1.5   \n",
       "118                   7.7                  2.6                   6.9   \n",
       "85                    6.0                  3.4                   4.5   \n",
       "86                    6.7                  3.1                   4.7   \n",
       "25                    5.0                  3.0                   1.6   \n",
       "55                    5.7                  2.8                   4.5   \n",
       "103                   6.3                  2.9                   5.6   \n",
       "21                    5.1                  3.7                   1.5   \n",
       "\n",
       "     Petal width (in cm)  Class  \n",
       "144                  2.5      2  \n",
       "69                   1.1      1  \n",
       "27                   0.2      0  \n",
       "7                    0.2      0  \n",
       "58                   1.3      1  \n",
       "32                   0.1      0  \n",
       "118                  2.3      2  \n",
       "85                   1.6      1  \n",
       "86                   1.5      1  \n",
       "25                   0.2      0  \n",
       "55                   1.3      1  \n",
       "103                  1.8      2  \n",
       "21                   0.4      0  "
      ]
     },
     "execution_count": 5,
     "metadata": {},
     "output_type": "execute_result"
    }
   ],
   "source": [
    "# changing the categorical variable to numericals i.e Label encoding the Class variable.\n",
    "df[\"Class\"]= df[\"Class\"].astype(\"category\")\n",
    "df[\"Class\"]=df[\"Class\"].cat.codes\n",
    "print (df.dtypes)\n",
    "df.sample(13)\n"
   ]
  },
  {
   "cell_type": "code",
   "execution_count": 6,
   "metadata": {},
   "outputs": [
    {
     "data": {
      "text/html": [
       "<div>\n",
       "<style scoped>\n",
       "    .dataframe tbody tr th:only-of-type {\n",
       "        vertical-align: middle;\n",
       "    }\n",
       "\n",
       "    .dataframe tbody tr th {\n",
       "        vertical-align: top;\n",
       "    }\n",
       "\n",
       "    .dataframe thead th {\n",
       "        text-align: right;\n",
       "    }\n",
       "</style>\n",
       "<table border=\"1\" class=\"dataframe\">\n",
       "  <thead>\n",
       "    <tr style=\"text-align: right;\">\n",
       "      <th></th>\n",
       "      <th>Sepal Length (in cm)</th>\n",
       "      <th>Sepal Width in (cm)</th>\n",
       "      <th>Petal length (in cm)</th>\n",
       "      <th>Petal width (in cm)</th>\n",
       "    </tr>\n",
       "    <tr>\n",
       "      <th>Class</th>\n",
       "      <th></th>\n",
       "      <th></th>\n",
       "      <th></th>\n",
       "      <th></th>\n",
       "    </tr>\n",
       "  </thead>\n",
       "  <tbody>\n",
       "    <tr>\n",
       "      <th>0</th>\n",
       "      <td>50</td>\n",
       "      <td>50</td>\n",
       "      <td>50</td>\n",
       "      <td>50</td>\n",
       "    </tr>\n",
       "    <tr>\n",
       "      <th>1</th>\n",
       "      <td>50</td>\n",
       "      <td>50</td>\n",
       "      <td>50</td>\n",
       "      <td>50</td>\n",
       "    </tr>\n",
       "    <tr>\n",
       "      <th>2</th>\n",
       "      <td>50</td>\n",
       "      <td>50</td>\n",
       "      <td>50</td>\n",
       "      <td>50</td>\n",
       "    </tr>\n",
       "  </tbody>\n",
       "</table>\n",
       "</div>"
      ],
      "text/plain": [
       "       Sepal Length (in cm)  Sepal Width in (cm)  Petal length (in cm)  \\\n",
       "Class                                                                    \n",
       "0                        50                   50                    50   \n",
       "1                        50                   50                    50   \n",
       "2                        50                   50                    50   \n",
       "\n",
       "       Petal width (in cm)  \n",
       "Class                       \n",
       "0                       50  \n",
       "1                       50  \n",
       "2                       50  "
      ]
     },
     "execution_count": 6,
     "metadata": {},
     "output_type": "execute_result"
    }
   ],
   "source": [
    "df.groupby([\"Class\"]).count()\n",
    "# 1:1:1 ratio, excellent dataset for training. "
   ]
  },
  {
   "cell_type": "markdown",
   "metadata": {
    "colab_type": "text",
    "id": "GdXGD0yAHunx"
   },
   "source": [
    "## Question 4\n",
    "\n",
    "*Observe the association of each independent variable with target variable and drop variables from feature set having correlation in range -0.1 to 0.1 with target variable.*"
   ]
  },
  {
   "cell_type": "code",
   "execution_count": 7,
   "metadata": {
    "colab": {},
    "colab_type": "code",
    "id": "UP3Cxwj3Huny"
   },
   "outputs": [
    {
     "data": {
      "text/html": [
       "<div>\n",
       "<style scoped>\n",
       "    .dataframe tbody tr th:only-of-type {\n",
       "        vertical-align: middle;\n",
       "    }\n",
       "\n",
       "    .dataframe tbody tr th {\n",
       "        vertical-align: top;\n",
       "    }\n",
       "\n",
       "    .dataframe thead th {\n",
       "        text-align: right;\n",
       "    }\n",
       "</style>\n",
       "<table border=\"1\" class=\"dataframe\">\n",
       "  <thead>\n",
       "    <tr style=\"text-align: right;\">\n",
       "      <th></th>\n",
       "      <th>Sepal Length (in cm)</th>\n",
       "      <th>Sepal Width in (cm)</th>\n",
       "      <th>Petal length (in cm)</th>\n",
       "      <th>Petal width (in cm)</th>\n",
       "      <th>Class</th>\n",
       "    </tr>\n",
       "  </thead>\n",
       "  <tbody>\n",
       "    <tr>\n",
       "      <th>Sepal Length (in cm)</th>\n",
       "      <td>1.000000</td>\n",
       "      <td>-0.109369</td>\n",
       "      <td>0.871754</td>\n",
       "      <td>0.817954</td>\n",
       "      <td>0.782561</td>\n",
       "    </tr>\n",
       "    <tr>\n",
       "      <th>Sepal Width in (cm)</th>\n",
       "      <td>-0.109369</td>\n",
       "      <td>1.000000</td>\n",
       "      <td>-0.420516</td>\n",
       "      <td>-0.356544</td>\n",
       "      <td>-0.419446</td>\n",
       "    </tr>\n",
       "    <tr>\n",
       "      <th>Petal length (in cm)</th>\n",
       "      <td>0.871754</td>\n",
       "      <td>-0.420516</td>\n",
       "      <td>1.000000</td>\n",
       "      <td>0.962757</td>\n",
       "      <td>0.949043</td>\n",
       "    </tr>\n",
       "    <tr>\n",
       "      <th>Petal width (in cm)</th>\n",
       "      <td>0.817954</td>\n",
       "      <td>-0.356544</td>\n",
       "      <td>0.962757</td>\n",
       "      <td>1.000000</td>\n",
       "      <td>0.956464</td>\n",
       "    </tr>\n",
       "    <tr>\n",
       "      <th>Class</th>\n",
       "      <td>0.782561</td>\n",
       "      <td>-0.419446</td>\n",
       "      <td>0.949043</td>\n",
       "      <td>0.956464</td>\n",
       "      <td>1.000000</td>\n",
       "    </tr>\n",
       "  </tbody>\n",
       "</table>\n",
       "</div>"
      ],
      "text/plain": [
       "                      Sepal Length (in cm)  Sepal Width in (cm)  \\\n",
       "Sepal Length (in cm)              1.000000            -0.109369   \n",
       "Sepal Width in (cm)              -0.109369             1.000000   \n",
       "Petal length (in cm)              0.871754            -0.420516   \n",
       "Petal width (in cm)               0.817954            -0.356544   \n",
       "Class                             0.782561            -0.419446   \n",
       "\n",
       "                      Petal length (in cm)  Petal width (in cm)     Class  \n",
       "Sepal Length (in cm)              0.871754             0.817954  0.782561  \n",
       "Sepal Width in (cm)              -0.420516            -0.356544 -0.419446  \n",
       "Petal length (in cm)              1.000000             0.962757  0.949043  \n",
       "Petal width (in cm)               0.962757             1.000000  0.956464  \n",
       "Class                             0.949043             0.956464  1.000000  "
      ]
     },
     "execution_count": 7,
     "metadata": {},
     "output_type": "execute_result"
    }
   ],
   "source": [
    "df.corr()"
   ]
  },
  {
   "cell_type": "markdown",
   "metadata": {
    "colab_type": "text",
    "id": "oQ0XwK2qHun4"
   },
   "source": [
    "## Question 5\n",
    "\n",
    "*Observe the independent variables variance and drop such variables having no variance or almost zero variance(variance < 0.1). They will be having almost no influence on the classification.*"
   ]
  },
  {
   "cell_type": "code",
   "execution_count": 8,
   "metadata": {
    "colab": {},
    "colab_type": "code",
    "id": "jzVVZN2MHun7"
   },
   "outputs": [
    {
     "data": {
      "text/plain": [
       "Sepal Length (in cm)    0.685694\n",
       "Sepal Width in (cm)     0.188004\n",
       "Petal length (in cm)    3.113179\n",
       "Petal width (in cm)     0.582414\n",
       "Class                   0.671141\n",
       "dtype: float64"
      ]
     },
     "execution_count": 8,
     "metadata": {},
     "output_type": "execute_result"
    }
   ],
   "source": [
    "df.var()"
   ]
  },
  {
   "cell_type": "code",
   "execution_count": 9,
   "metadata": {},
   "outputs": [],
   "source": [
    "df=df.drop(\"Sepal Width in (cm)\",axis=1)"
   ]
  },
  {
   "cell_type": "markdown",
   "metadata": {
    "colab_type": "text",
    "id": "H7Ajl_WfHuoB"
   },
   "source": [
    "## Question 6\n",
    "\n",
    "*Plot the scatter matrix for all the variables.*"
   ]
  },
  {
   "cell_type": "code",
   "execution_count": 10,
   "metadata": {
    "colab": {},
    "colab_type": "code",
    "id": "np7YAIF8HuoC"
   },
   "outputs": [
    {
     "data": {
      "text/plain": [
       "<seaborn.axisgrid.PairGrid at 0x15d65d6bac8>"
      ]
     },
     "execution_count": 10,
     "metadata": {},
     "output_type": "execute_result"
    },
    {
     "data": {
      "image/png": "[encoded data removed]",
      "text/plain": [
       "<Figure size 762.375x720 with 20 Axes>"
      ]
     },
     "metadata": {
      "needs_background": "light"
     },
     "output_type": "display_data"
    }
   ],
   "source": [
    "import seaborn as sns\n",
    "sns.pairplot(df,hue =\"Class\",diag_kind='kde')"
   ]
  },
  {
   "cell_type": "markdown",
   "metadata": {
    "colab_type": "text",
    "id": "86y0-5mUHuoK"
   },
   "source": [
    "## Split the dataset into training and test sets\n",
    "\n",
    "## Question 7\n",
    "\n",
    "*Split the dataset into training and test sets with 80-20 ratio.*"
   ]
  },
  {
   "cell_type": "code",
   "execution_count": 11,
   "metadata": {},
   "outputs": [
    {
     "data": {
      "text/plain": [
       "0.8333333333333334"
      ]
     },
     "execution_count": 11,
     "metadata": {},
     "output_type": "execute_result"
    }
   ],
   "source": [
    "from sklearn.model_selection import train_test_split\n",
    "import numpy as np \n",
    "from sklearn.neighbors import KNeighborsClassifier\n",
    "feature_df= df.drop(labels=\"Class\",axis=1)\n",
    "labels_df = df[\"Class\"]\n",
    "X= np.array(feature_df)\n",
    "y=np.array(labels_df)\n",
    "X_train, X_test, y_train, y_test = train_test_split(feature_df, labels_df, test_size=0.20,random_state=7)\n",
    "NNH = KNeighborsClassifier(n_neighbors= 44)\n",
    "NNH.fit(X_train, y_train)\n",
    "predicted_labels = NNH.predict(X_test)\n",
    "NNH.score(X_test, y_test)\n"
   ]
  },
  {
   "cell_type": "code",
   "execution_count": 12,
   "metadata": {
    "colab": {},
    "colab_type": "code",
    "id": "ucaAL9l0HuoM"
   },
   "outputs": [],
   "source": [
    "#feature_df= df.drop(labels=\"Class\",axis=1)\n",
    "#labels_df = df[\"Class\"]\n",
    "#from sklearn.model_selection import train_test_split\n",
    "#X_train, X_test, y_train, y_test = train_test_split(feature_df, labels_df, test_size=0.20,random_state=9)\n",
    "#from sklearn.preprocessing import MinMaxScaler \n",
    "#scaler = MinMaxScaler()\n",
    "#X_train= scaler.fit_transform(X_train)\n",
    "#X_test= scaler.fit_transform(X_test)\n",
    "#X_train = np.array(X_train)\n",
    "#X_test = np.array(X_test)\n",
    "#y_train = np.array(y_train)\n",
    "#y_test= np.array(y_test)\n",
    "\n"
   ]
  },
  {
   "cell_type": "markdown",
   "metadata": {
    "colab_type": "text",
    "id": "0NBIs8ryHuoS"
   },
   "source": [
    "## Question 8 - Model\n",
    "\n",
    "*Build the model and train and test on training and test sets respectively using **scikit-learn**. Print the Accuracy of the model with different values of **k=3,5,9**.*\n",
    "\n",
    "**Hint:** For accuracy you can check **accuracy_score()** in scikit-learn"
   ]
  },
  {
   "cell_type": "code",
   "execution_count": 13,
   "metadata": {
    "colab": {},
    "colab_type": "code",
    "id": "SyAgXdpmHuoU"
   },
   "outputs": [
    {
     "name": "stdout",
     "output_type": "stream",
     "text": [
      "The accuracy for 3 nearest neighbours is : 0.9\n",
      "The accuracy for 5 nearest neighbours is : 0.9\n",
      "The accuracy for 9 nearest neighbours is : 0.8666666666666667\n"
     ]
    }
   ],
   "source": [
    "from sklearn.neighbors import KNeighborsClassifier\n",
    "from sklearn.metrics import accuracy_score\n",
    "values=[3,5,9]\n",
    "\n",
    "for k in values:\n",
    "    NNH = KNeighborsClassifier(n_neighbors= k,weights='uniform',metric='euclidean')\n",
    "    NNH.fit(X_train, y_train)\n",
    "    y_pred=NNH.predict(X_test)\n",
    "    FinalScore= accuracy_score(y_test,y_pred)\n",
    "    print (\"The accuracy for %d nearest neighbours is :\"%k,FinalScore)\n",
    "\n",
    "    \n",
    "\n",
    "    \n",
    "    \n",
    "    \n",
    "    \n",
    "    "
   ]
  },
  {
   "cell_type": "code",
   "execution_count": null,
   "metadata": {},
   "outputs": [],
   "source": []
  },
  {
   "cell_type": "markdown",
   "metadata": {
    "colab_type": "text",
    "id": "SsPnubVeHuoY"
   },
   "source": [
    "## Question 9 - Cross Validation\n",
    "\n",
    "Run the KNN with no of neighbours to be 1,3,5..19 and *Find the **optimal number of neighbours** from the above list using the Mis classification error"
   ]
  },
  {
   "cell_type": "markdown",
   "metadata": {
    "colab_type": "text",
    "id": "jY6Vy-IjHuoZ"
   },
   "source": [
    "Hint:\n",
    "\n",
    "Misclassification error (MSE) = 1 - Test accuracy score. Calculated MSE for each model with neighbours = 1,3,5...19 and find the model with lowest MSE"
   ]
  },
  {
   "cell_type": "code",
   "execution_count": 14,
   "metadata": {
    "colab": {},
    "colab_type": "code",
    "id": "L3RcCZTxHuob"
   },
   "outputs": [
    {
     "name": "stdout",
     "output_type": "stream",
     "text": [
      "The optimal number of neighbours is 17\n"
     ]
    }
   ],
   "source": [
    "values=list(range(1,20))\n",
    "FinalScore=[]\n",
    "k_neighbours=[]\n",
    "for k in values:\n",
    "    NNH = KNeighborsClassifier(n_neighbors= k,weights='uniform',metric='euclidean')\n",
    "    NNH.fit(X_train, y_train)\n",
    "    y_pred=NNH.predict(X_test)\n",
    "    accscore=accuracy_score(y_test,y_pred)\n",
    "    FinalScore.append(accscore)\n",
    "    k_neighbours.append(k)\n",
    "\n",
    "MSE = [1 - x for x in FinalScore]\n",
    "min(MSE)\n",
    "MSE.index(min(MSE))\n",
    "best_k = values[MSE.index(min(MSE))]\n",
    "print (\"The optimal number of neighbours is %d\" % best_k)\n",
    "    "
   ]
  },
  {
   "cell_type": "markdown",
   "metadata": {
    "colab_type": "text",
    "id": "qPj4qKLdHuog"
   },
   "source": [
    "## Question 10\n",
    "\n",
    "*Plot misclassification error vs k (with k value on X-axis) using matplotlib.*"
   ]
  },
  {
   "cell_type": "code",
   "execution_count": 15,
   "metadata": {
    "colab": {},
    "colab_type": "code",
    "id": "DkO_m64YHuoh"
   },
   "outputs": [
    {
     "data": {
      "image/png": "[encoded data removed]",
      "text/plain": [
       "<Figure size 864x648 with 1 Axes>"
      ]
     },
     "metadata": {
      "needs_background": "light"
     },
     "output_type": "display_data"
    }
   ],
   "source": [
    "import matplotlib.pyplot as plt\n",
    "\n",
    "fig_size = plt.rcParams[\"figure.figsize\"]\n",
    "fig_size[0] = 12\n",
    "fig_size[1] = 9\n",
    "plt.rcParams[\"figure.figsize\"] = fig_size\n",
    "\n",
    "plt.xlim(0,19)\n",
    "\n",
    "\n",
    "plt.plot(k_neighbours, MSE)\n",
    "\n",
    "\n",
    "\n",
    "plt.xlabel('Number of Neighbors K')\n",
    "plt.ylabel('Misclassification Error')\n",
    "plt.show()\n"
   ]
  },
  {
   "cell_type": "markdown",
   "metadata": {
    "colab_type": "text",
    "id": "v6sXbH93Huol"
   },
   "source": [
    "# Naive Bayes with Iris Data"
   ]
  },
  {
   "cell_type": "code",
   "execution_count": 16,
   "metadata": {
    "colab": {},
    "colab_type": "code",
    "id": "Fwgqcy8iHuon"
   },
   "outputs": [],
   "source": [
    "#Load all required library\n",
    "import pandas as pd\n",
    "import numpy as np\n",
    "from matplotlib import pyplot as plt\n",
    "%matplotlib inline\n",
    "from sklearn import datasets\n",
    "from sklearn.decomposition import PCA\n",
    "from sklearn.naive_bayes import GaussianNB, BernoulliNB, MultinomialNB"
   ]
  },
  {
   "cell_type": "markdown",
   "metadata": {
    "colab_type": "text",
    "id": "mSUZN0ExHuot"
   },
   "source": [
    "### Slice  Iris data set for Independent variables and dependent variables\n",
    "#### Please note 'Species' is my dependent variables, name it y and independent set data as X"
   ]
  },
  {
   "cell_type": "code",
   "execution_count": null,
   "metadata": {
    "colab": {},
    "colab_type": "code",
    "id": "MtjTNX6bHuov"
   },
   "outputs": [],
   "source": []
  },
  {
   "cell_type": "code",
   "execution_count": 17,
   "metadata": {
    "colab": {},
    "colab_type": "code",
    "id": "z4oZginZHuo2"
   },
   "outputs": [
    {
     "name": "stdout",
     "output_type": "stream",
     "text": [
      "[0 0 0 0 0 0 0 0 0 0 0 0 0 0 0 0 0 0 0 0 0 0 0 0 0 0 0 0 0 0 0 0 0 0 0 0 0\n",
      " 0 0 0 0 0 0 0 0 0 0 0 0 0 1 1 1 1 1 1 1 1 1 1 1 1 1 1 1 1 1 1 1 1 1 1 1 1\n",
      " 1 1 1 1 1 1 1 1 1 1 1 1 1 1 1 1 1 1 1 1 1 1 1 1 1 1 2 2 2 2 2 2 2 2 2 2 2\n",
      " 2 2 2 2 2 2 2 2 2 2 2 2 2 2 2 2 2 2 2 2 2 2 2 2 2 2 2 2 2 2 2 2 2 2 2 2 2\n",
      " 2 2]\n",
      "[[5.1 1.4 0.2]\n",
      " [4.9 1.4 0.2]\n",
      " [4.7 1.3 0.2]\n",
      " [4.6 1.5 0.2]\n",
      " [5.  1.4 0.2]\n",
      " [5.4 1.7 0.4]\n",
      " [4.6 1.4 0.3]\n",
      " [5.  1.5 0.2]\n",
      " [4.4 1.4 0.2]\n",
      " [4.9 1.5 0.1]\n",
      " [5.4 1.5 0.2]\n",
      " [4.8 1.6 0.2]\n",
      " [4.8 1.4 0.1]\n",
      " [4.3 1.1 0.1]\n",
      " [5.8 1.2 0.2]\n",
      " [5.7 1.5 0.4]\n",
      " [5.4 1.3 0.4]\n",
      " [5.1 1.4 0.3]\n",
      " [5.7 1.7 0.3]\n",
      " [5.1 1.5 0.3]\n",
      " [5.4 1.7 0.2]\n",
      " [5.1 1.5 0.4]\n",
      " [4.6 1.  0.2]\n",
      " [5.1 1.7 0.5]\n",
      " [4.8 1.9 0.2]\n",
      " [5.  1.6 0.2]\n",
      " [5.  1.6 0.4]\n",
      " [5.2 1.5 0.2]\n",
      " [5.2 1.4 0.2]\n",
      " [4.7 1.6 0.2]\n",
      " [4.8 1.6 0.2]\n",
      " [5.4 1.5 0.4]\n",
      " [5.2 1.5 0.1]\n",
      " [5.5 1.4 0.2]\n",
      " [4.9 1.5 0.1]\n",
      " [5.  1.2 0.2]\n",
      " [5.5 1.3 0.2]\n",
      " [4.9 1.5 0.1]\n",
      " [4.4 1.3 0.2]\n",
      " [5.1 1.5 0.2]\n",
      " [5.  1.3 0.3]\n",
      " [4.5 1.3 0.3]\n",
      " [4.4 1.3 0.2]\n",
      " [5.  1.6 0.6]\n",
      " [5.1 1.9 0.4]\n",
      " [4.8 1.4 0.3]\n",
      " [5.1 1.6 0.2]\n",
      " [4.6 1.4 0.2]\n",
      " [5.3 1.5 0.2]\n",
      " [5.  1.4 0.2]\n",
      " [7.  4.7 1.4]\n",
      " [6.4 4.5 1.5]\n",
      " [6.9 4.9 1.5]\n",
      " [5.5 4.  1.3]\n",
      " [6.5 4.6 1.5]\n",
      " [5.7 4.5 1.3]\n",
      " [6.3 4.7 1.6]\n",
      " [4.9 3.3 1. ]\n",
      " [6.6 4.6 1.3]\n",
      " [5.2 3.9 1.4]\n",
      " [5.  3.5 1. ]\n",
      " [5.9 4.2 1.5]\n",
      " [6.  4.  1. ]\n",
      " [6.1 4.7 1.4]\n",
      " [5.6 3.6 1.3]\n",
      " [6.7 4.4 1.4]\n",
      " [5.6 4.5 1.5]\n",
      " [5.8 4.1 1. ]\n",
      " [6.2 4.5 1.5]\n",
      " [5.6 3.9 1.1]\n",
      " [5.9 4.8 1.8]\n",
      " [6.1 4.  1.3]\n",
      " [6.3 4.9 1.5]\n",
      " [6.1 4.7 1.2]\n",
      " [6.4 4.3 1.3]\n",
      " [6.6 4.4 1.4]\n",
      " [6.8 4.8 1.4]\n",
      " [6.7 5.  1.7]\n",
      " [6.  4.5 1.5]\n",
      " [5.7 3.5 1. ]\n",
      " [5.5 3.8 1.1]\n",
      " [5.5 3.7 1. ]\n",
      " [5.8 3.9 1.2]\n",
      " [6.  5.1 1.6]\n",
      " [5.4 4.5 1.5]\n",
      " [6.  4.5 1.6]\n",
      " [6.7 4.7 1.5]\n",
      " [6.3 4.4 1.3]\n",
      " [5.6 4.1 1.3]\n",
      " [5.5 4.  1.3]\n",
      " [5.5 4.4 1.2]\n",
      " [6.1 4.6 1.4]\n",
      " [5.8 4.  1.2]\n",
      " [5.  3.3 1. ]\n",
      " [5.6 4.2 1.3]\n",
      " [5.7 4.2 1.2]\n",
      " [5.7 4.2 1.3]\n",
      " [6.2 4.3 1.3]\n",
      " [5.1 3.  1.1]\n",
      " [5.7 4.1 1.3]\n",
      " [6.3 6.  2.5]\n",
      " [5.8 5.1 1.9]\n",
      " [7.1 5.9 2.1]\n",
      " [6.3 5.6 1.8]\n",
      " [6.5 5.8 2.2]\n",
      " [7.6 6.6 2.1]\n",
      " [4.9 4.5 1.7]\n",
      " [7.3 6.3 1.8]\n",
      " [6.7 5.8 1.8]\n",
      " [7.2 6.1 2.5]\n",
      " [6.5 5.1 2. ]\n",
      " [6.4 5.3 1.9]\n",
      " [6.8 5.5 2.1]\n",
      " [5.7 5.  2. ]\n",
      " [5.8 5.1 2.4]\n",
      " [6.4 5.3 2.3]\n",
      " [6.5 5.5 1.8]\n",
      " [7.7 6.7 2.2]\n",
      " [7.7 6.9 2.3]\n",
      " [6.  5.  1.5]\n",
      " [6.9 5.7 2.3]\n",
      " [5.6 4.9 2. ]\n",
      " [7.7 6.7 2. ]\n",
      " [6.3 4.9 1.8]\n",
      " [6.7 5.7 2.1]\n",
      " [7.2 6.  1.8]\n",
      " [6.2 4.8 1.8]\n",
      " [6.1 4.9 1.8]\n",
      " [6.4 5.6 2.1]\n",
      " [7.2 5.8 1.6]\n",
      " [7.4 6.1 1.9]\n",
      " [7.9 6.4 2. ]\n",
      " [6.4 5.6 2.2]\n",
      " [6.3 5.1 1.5]\n",
      " [6.1 5.6 1.4]\n",
      " [7.7 6.1 2.3]\n",
      " [6.3 5.6 2.4]\n",
      " [6.4 5.5 1.8]\n",
      " [6.  4.8 1.8]\n",
      " [6.9 5.4 2.1]\n",
      " [6.7 5.6 2.4]\n",
      " [6.9 5.1 2.3]\n",
      " [5.8 5.1 1.9]\n",
      " [6.8 5.9 2.3]\n",
      " [6.7 5.7 2.5]\n",
      " [6.7 5.2 2.3]\n",
      " [6.3 5.  1.9]\n",
      " [6.5 5.2 2. ]\n",
      " [6.2 5.4 2.3]\n",
      " [5.9 5.1 1.8]]\n"
     ]
    }
   ],
   "source": [
    "#Check the dataset\n",
    "print(y)\n",
    "print(X)"
   ]
  },
  {
   "cell_type": "markdown",
   "metadata": {
    "colab_type": "text",
    "id": "0tjAAFABHuo8"
   },
   "source": [
    "# Question 11 \n",
    "Find the distribution of target variable (Class)\n",
    "\n",
    "And, Plot the distribution of target variable using histogram"
   ]
  },
  {
   "cell_type": "code",
   "execution_count": 18,
   "metadata": {
    "colab": {},
    "colab_type": "code",
    "id": "9MOM08lIHuo-"
   },
   "outputs": [
    {
     "data": {
      "text/plain": [
       "<matplotlib.axes._subplots.AxesSubplot at 0x15d66a22dd8>"
      ]
     },
     "execution_count": 18,
     "metadata": {},
     "output_type": "execute_result"
    },
    {
     "data": {
      "image/png": "[encoded data removed]",
      "text/plain": [
       "<Figure size 720x720 with 1 Axes>"
      ]
     },
     "metadata": {
      "needs_background": "light"
     },
     "output_type": "display_data"
    }
   ],
   "source": [
    "df.Class.hist(bins=10,figsize=(10,10))"
   ]
  },
  {
   "cell_type": "code",
   "execution_count": 19,
   "metadata": {
    "colab": {},
    "colab_type": "code",
    "id": "nGzK2Gn2HupC"
   },
   "outputs": [
    {
     "data": {
      "text/plain": [
       "<matplotlib.axes._subplots.AxesSubplot at 0x15d67045550>"
      ]
     },
     "execution_count": 19,
     "metadata": {},
     "output_type": "execute_result"
    },
    {
     "data": {
      "image/png": "[encoded data removed]",
      "text/plain": [
       "<Figure size 432x288 with 1 Axes>"
      ]
     },
     "metadata": {
      "needs_background": "light"
     },
     "output_type": "display_data"
    }
   ],
   "source": [
    "sns.distplot(df[\"Class\"],kde=False,axlabel=\"Class\",bins=20)"
   ]
  },
  {
   "cell_type": "code",
   "execution_count": 20,
   "metadata": {
    "colab": {},
    "colab_type": "code",
    "id": "RnfaMmoaHupH"
   },
   "outputs": [
    {
     "data": {
      "text/html": [
       "<div>\n",
       "<style scoped>\n",
       "    .dataframe tbody tr th:only-of-type {\n",
       "        vertical-align: middle;\n",
       "    }\n",
       "\n",
       "    .dataframe tbody tr th {\n",
       "        vertical-align: top;\n",
       "    }\n",
       "\n",
       "    .dataframe thead th {\n",
       "        text-align: right;\n",
       "    }\n",
       "</style>\n",
       "<table border=\"1\" class=\"dataframe\">\n",
       "  <thead>\n",
       "    <tr style=\"text-align: right;\">\n",
       "      <th></th>\n",
       "      <th>Sepal Length (in cm)</th>\n",
       "      <th>Petal length (in cm)</th>\n",
       "      <th>Petal width (in cm)</th>\n",
       "      <th>Class</th>\n",
       "    </tr>\n",
       "  </thead>\n",
       "  <tbody>\n",
       "    <tr>\n",
       "      <th>0</th>\n",
       "      <td>5.1</td>\n",
       "      <td>1.4</td>\n",
       "      <td>0.2</td>\n",
       "      <td>0</td>\n",
       "    </tr>\n",
       "    <tr>\n",
       "      <th>1</th>\n",
       "      <td>4.9</td>\n",
       "      <td>1.4</td>\n",
       "      <td>0.2</td>\n",
       "      <td>0</td>\n",
       "    </tr>\n",
       "    <tr>\n",
       "      <th>2</th>\n",
       "      <td>4.7</td>\n",
       "      <td>1.3</td>\n",
       "      <td>0.2</td>\n",
       "      <td>0</td>\n",
       "    </tr>\n",
       "    <tr>\n",
       "      <th>3</th>\n",
       "      <td>4.6</td>\n",
       "      <td>1.5</td>\n",
       "      <td>0.2</td>\n",
       "      <td>0</td>\n",
       "    </tr>\n",
       "    <tr>\n",
       "      <th>4</th>\n",
       "      <td>5.0</td>\n",
       "      <td>1.4</td>\n",
       "      <td>0.2</td>\n",
       "      <td>0</td>\n",
       "    </tr>\n",
       "  </tbody>\n",
       "</table>\n",
       "</div>"
      ],
      "text/plain": [
       "   Sepal Length (in cm)  Petal length (in cm)  Petal width (in cm)  Class\n",
       "0                   5.1                   1.4                  0.2      0\n",
       "1                   4.9                   1.4                  0.2      0\n",
       "2                   4.7                   1.3                  0.2      0\n",
       "3                   4.6                   1.5                  0.2      0\n",
       "4                   5.0                   1.4                  0.2      0"
      ]
     },
     "execution_count": 20,
     "metadata": {},
     "output_type": "execute_result"
    }
   ],
   "source": [
    "#Drop Id variable from data\n",
    "df.head()"
   ]
  },
  {
   "cell_type": "markdown",
   "metadata": {
    "colab_type": "text",
    "id": "4t25mCgtHupL"
   },
   "source": [
    "### Question 12 \n",
    "Find Correlation among all variables and give your insights "
   ]
  },
  {
   "cell_type": "code",
   "execution_count": 21,
   "metadata": {
    "colab": {},
    "colab_type": "code",
    "id": "QH1X0KHKHupN"
   },
   "outputs": [],
   "source": [
    "#Please note, it's Require to remove correlated features because they are voted twice in the model and \n",
    "## it can lead to over inflating importance.We will ignore it here"
   ]
  },
  {
   "cell_type": "code",
   "execution_count": 22,
   "metadata": {
    "colab": {},
    "colab_type": "code",
    "id": "Hpx6ESv0HupS"
   },
   "outputs": [
    {
     "data": {
      "text/html": [
       "<div>\n",
       "<style scoped>\n",
       "    .dataframe tbody tr th:only-of-type {\n",
       "        vertical-align: middle;\n",
       "    }\n",
       "\n",
       "    .dataframe tbody tr th {\n",
       "        vertical-align: top;\n",
       "    }\n",
       "\n",
       "    .dataframe thead th {\n",
       "        text-align: right;\n",
       "    }\n",
       "</style>\n",
       "<table border=\"1\" class=\"dataframe\">\n",
       "  <thead>\n",
       "    <tr style=\"text-align: right;\">\n",
       "      <th></th>\n",
       "      <th>Sepal Length (in cm)</th>\n",
       "      <th>Petal length (in cm)</th>\n",
       "      <th>Petal width (in cm)</th>\n",
       "      <th>Class</th>\n",
       "    </tr>\n",
       "  </thead>\n",
       "  <tbody>\n",
       "    <tr>\n",
       "      <th>Sepal Length (in cm)</th>\n",
       "      <td>1.000000</td>\n",
       "      <td>0.871754</td>\n",
       "      <td>0.817954</td>\n",
       "      <td>0.782561</td>\n",
       "    </tr>\n",
       "    <tr>\n",
       "      <th>Petal length (in cm)</th>\n",
       "      <td>0.871754</td>\n",
       "      <td>1.000000</td>\n",
       "      <td>0.962757</td>\n",
       "      <td>0.949043</td>\n",
       "    </tr>\n",
       "    <tr>\n",
       "      <th>Petal width (in cm)</th>\n",
       "      <td>0.817954</td>\n",
       "      <td>0.962757</td>\n",
       "      <td>1.000000</td>\n",
       "      <td>0.956464</td>\n",
       "    </tr>\n",
       "    <tr>\n",
       "      <th>Class</th>\n",
       "      <td>0.782561</td>\n",
       "      <td>0.949043</td>\n",
       "      <td>0.956464</td>\n",
       "      <td>1.000000</td>\n",
       "    </tr>\n",
       "  </tbody>\n",
       "</table>\n",
       "</div>"
      ],
      "text/plain": [
       "                      Sepal Length (in cm)  Petal length (in cm)  \\\n",
       "Sepal Length (in cm)              1.000000              0.871754   \n",
       "Petal length (in cm)              0.871754              1.000000   \n",
       "Petal width (in cm)               0.817954              0.962757   \n",
       "Class                             0.782561              0.949043   \n",
       "\n",
       "                      Petal width (in cm)     Class  \n",
       "Sepal Length (in cm)             0.817954  0.782561  \n",
       "Petal length (in cm)             0.962757  0.949043  \n",
       "Petal width (in cm)              1.000000  0.956464  \n",
       "Class                            0.956464  1.000000  "
      ]
     },
     "execution_count": 22,
     "metadata": {},
     "output_type": "execute_result"
    }
   ],
   "source": [
    "df.corr()\n",
    "#as given by the table below, it is apparent that all the features are hightly correlated to one another and thus can be combined to one feature. "
   ]
  },
  {
   "cell_type": "markdown",
   "metadata": {
    "colab_type": "text",
    "id": "fMwqZfKEHupV"
   },
   "source": [
    "### Split data in Training and test set in 80:20."
   ]
  },
  {
   "cell_type": "code",
   "execution_count": 23,
   "metadata": {
    "colab": {},
    "colab_type": "code",
    "id": "yRCFfCqHHupW"
   },
   "outputs": [],
   "source": [
    "# Already split as per Question 7. "
   ]
  },
  {
   "cell_type": "markdown",
   "metadata": {
    "colab_type": "text",
    "id": "z8d4yxofHupb"
   },
   "source": [
    "### Question 13 \n",
    "Do Feature Scaling "
   ]
  },
  {
   "cell_type": "code",
   "execution_count": 24,
   "metadata": {
    "colab": {},
    "colab_type": "code",
    "id": "Y7o_ra27Hupe"
   },
   "outputs": [],
   "source": [
    "# Use StandardScaler or similar methods"
   ]
  },
  {
   "cell_type": "code",
   "execution_count": 25,
   "metadata": {
    "colab": {},
    "colab_type": "code",
    "id": "bhJcgQOmHupi"
   },
   "outputs": [],
   "source": [
    "from sklearn.preprocessing import MinMaxScaler \n",
    "scaler = MinMaxScaler()\n",
    "X_train= scaler.fit_transform(X_train)\n",
    "X_test= scaler.fit_transform(X_test)\n"
   ]
  },
  {
   "cell_type": "markdown",
   "metadata": {
    "colab_type": "text",
    "id": "yLtqsTXwHupn"
   },
   "source": [
    "### Question 14 \n",
    "Train and Fit NaiveBayes Model"
   ]
  },
  {
   "cell_type": "code",
   "execution_count": 26,
   "metadata": {
    "colab": {},
    "colab_type": "code",
    "id": "7gqp9ej6Hupp"
   },
   "outputs": [
    {
     "data": {
      "text/plain": [
       "GaussianNB(priors=None, var_smoothing=1e-09)"
      ]
     },
     "execution_count": 26,
     "metadata": {},
     "output_type": "execute_result"
    }
   ],
   "source": [
    "#Fit the model\n",
    "model = GaussianNB()\n",
    "model.fit(X_train, y_train)"
   ]
  },
  {
   "cell_type": "code",
   "execution_count": 39,
   "metadata": {
    "colab": {},
    "colab_type": "code",
    "id": "v_4CFBdRHupt"
   },
   "outputs": [
    {
     "data": {
      "text/plain": [
       "array([2, 1, 0, 1, 1, 0, 2, 1, 0, 1, 2, 1, 0, 2, 0, 2, 2, 2, 0, 0, 1, 2,\n",
       "       1, 2, 2, 2, 1, 1, 2, 2], dtype=int8)"
      ]
     },
     "execution_count": 39,
     "metadata": {},
     "output_type": "execute_result"
    }
   ],
   "source": [
    "#Predict\n",
    "model.predict(X_test)"
   ]
  },
  {
   "cell_type": "markdown",
   "metadata": {
    "colab_type": "text",
    "id": "UW_HXYOeHupy"
   },
   "source": [
    "### Question 15 \n",
    "Print Accuracy and Confusion Matrix and Conclude your findings"
   ]
  },
  {
   "cell_type": "code",
   "execution_count": 47,
   "metadata": {
    "colab": {},
    "colab_type": "code",
    "id": "8mZGt-uLHup0"
   },
   "outputs": [
    {
     "name": "stdout",
     "output_type": "stream",
     "text": [
      "[[ 7  0  0]\n",
      " [ 0  9  3]\n",
      " [ 0  1 10]]\n"
     ]
    }
   ],
   "source": [
    "# show Confusion Matrix\n",
    "from sklearn import metrics\n",
    "expected = y_test\n",
    "predicted = model.predict(X_test)\n",
    "print(metrics.confusion_matrix(expected,predicted))"
   ]
  },
  {
   "cell_type": "code",
   "execution_count": 46,
   "metadata": {
    "colab": {},
    "colab_type": "code",
    "id": "AUqBiwmiHup4"
   },
   "outputs": [
    {
     "data": {
      "text/plain": [
       "0.8666666666666667"
      ]
     },
     "execution_count": 46,
     "metadata": {},
     "output_type": "execute_result"
    }
   ],
   "source": [
    "# show accuracy\n",
    "model.score(X_test,y_test)"
   ]
  },
  {
   "cell_type": "code",
   "execution_count": 48,
   "metadata": {
    "colab": {},
    "colab_type": "code",
    "id": "bhCN30DZHup-"
   },
   "outputs": [
    {
     "name": "stdout",
     "output_type": "stream",
     "text": [
      "              precision    recall  f1-score   support\n",
      "\n",
      "           0       1.00      1.00      1.00         7\n",
      "           1       0.90      0.75      0.82        12\n",
      "           2       0.77      0.91      0.83        11\n",
      "\n",
      "   micro avg       0.87      0.87      0.87        30\n",
      "   macro avg       0.89      0.89      0.88        30\n",
      "weighted avg       0.88      0.87      0.87        30\n",
      "\n"
     ]
    }
   ],
   "source": [
    "#Show precision and Recall metrics\n",
    "print(metrics.classification_report(expected, predicted))"
   ]
  },
  {
   "cell_type": "code",
   "execution_count": null,
   "metadata": {
    "colab": {},
    "colab_type": "code",
    "id": "xoj4zdh6HuqC"
   },
   "outputs": [],
   "source": []
  },
  {
   "cell_type": "markdown",
   "metadata": {
    "colab_type": "text",
    "id": "rY_-DYU-HuqH"
   },
   "source": [
    "# For Practice  - Optional\n",
    "\n",
    "All the questions from 16 to 20 are for practice."
   ]
  },
  {
   "cell_type": "markdown",
   "metadata": {
    "colab_type": "text",
    "id": "fdHjJ_hNHuqJ"
   },
   "source": [
    "# Using SVM with Diebetes Dataset"
   ]
  },
  {
   "cell_type": "code",
   "execution_count": 31,
   "metadata": {
    "colab": {},
    "colab_type": "code",
    "id": "dAK4a1jMHuqM"
   },
   "outputs": [],
   "source": [
    "#Import library\n",
    "import pandas as pd\n",
    "import numpy as np\n",
    "import matplotlib.pyplot as plt\n",
    "%matplotlib inline"
   ]
  },
  {
   "cell_type": "markdown",
   "metadata": {
    "colab_type": "text",
    "id": "PFapFRFpHuqP"
   },
   "source": [
    "# Question 16 \n",
    "Read the input file 'Diabetes.csv' using Pandas and check it's column names.\n",
    "\n",
    "Check dimension of dataset.\n",
    "\n",
    "Check distribution of dependent variable, Outcome and plot it.\n"
   ]
  },
  {
   "cell_type": "code",
   "execution_count": null,
   "metadata": {
    "colab": {},
    "colab_type": "code",
    "id": "JymT5eSnHuqQ"
   },
   "outputs": [],
   "source": []
  },
  {
   "cell_type": "code",
   "execution_count": 32,
   "metadata": {
    "colab": {},
    "colab_type": "code",
    "id": "Po47LmyPHuqW"
   },
   "outputs": [],
   "source": [
    "# Eye ball the imported dataset"
   ]
  },
  {
   "cell_type": "code",
   "execution_count": null,
   "metadata": {
    "colab": {},
    "colab_type": "code",
    "id": "jBIM8ETyHuqZ"
   },
   "outputs": [],
   "source": []
  },
  {
   "cell_type": "code",
   "execution_count": null,
   "metadata": {
    "colab": {},
    "colab_type": "code",
    "id": "xySkX-gfHuqi"
   },
   "outputs": [],
   "source": []
  },
  {
   "cell_type": "markdown",
   "metadata": {
    "colab_type": "text",
    "id": "UZVGVK1zHuqn"
   },
   "source": [
    "### Out of  768 data points, 500 are labeled as 0 and 268 as 1.\n",
    "### Outcome 0 means No diabetes, outcome 1 means diabetes"
   ]
  },
  {
   "cell_type": "code",
   "execution_count": null,
   "metadata": {
    "colab": {},
    "colab_type": "code",
    "id": "B9KjFXnQHuqp"
   },
   "outputs": [],
   "source": []
  },
  {
   "cell_type": "code",
   "execution_count": 33,
   "metadata": {
    "colab": {},
    "colab_type": "code",
    "id": "Ell7v-4UHuqu"
   },
   "outputs": [],
   "source": [
    "# Check data types and info of dataset"
   ]
  },
  {
   "cell_type": "markdown",
   "metadata": {
    "colab_type": "text",
    "id": "QZ_U9-ctHuq0"
   },
   "source": [
    "# Question 17 \n",
    "Check data distribution using summary statistics and provide your findings.\n",
    "\n",
    "Do correlation analysis and bivariate viualization with Insights\n"
   ]
  },
  {
   "cell_type": "code",
   "execution_count": null,
   "metadata": {
    "colab": {},
    "colab_type": "code",
    "id": "dbyJecg8Huq0"
   },
   "outputs": [],
   "source": []
  },
  {
   "cell_type": "code",
   "execution_count": null,
   "metadata": {
    "colab": {},
    "colab_type": "code",
    "id": "V4CkSxdiHuq5"
   },
   "outputs": [],
   "source": []
  },
  {
   "cell_type": "code",
   "execution_count": null,
   "metadata": {
    "colab": {},
    "colab_type": "code",
    "id": "pAj1Y0yyHuq9"
   },
   "outputs": [],
   "source": []
  },
  {
   "cell_type": "markdown",
   "metadata": {
    "colab_type": "text",
    "id": "YvA6mDiBHurA"
   },
   "source": [
    "# Question 18 \n",
    "Do train and test split. \n",
    "Optionally - You can do with stratify sampling(optional) on Outcome variable to maintain the distribution of dependent variable"
   ]
  },
  {
   "cell_type": "code",
   "execution_count": null,
   "metadata": {
    "colab": {},
    "colab_type": "code",
    "id": "3z7rPjFcHurC"
   },
   "outputs": [],
   "source": []
  },
  {
   "cell_type": "code",
   "execution_count": null,
   "metadata": {
    "colab": {},
    "colab_type": "code",
    "id": "qbO2YMc_HurE"
   },
   "outputs": [],
   "source": []
  },
  {
   "cell_type": "markdown",
   "metadata": {
    "colab_type": "text",
    "id": "98rPDoBhHurJ"
   },
   "source": [
    "# Question 19 \n",
    "Train Support Vector Machine Model(1 Marks)"
   ]
  },
  {
   "cell_type": "code",
   "execution_count": 34,
   "metadata": {
    "colab": {},
    "colab_type": "code",
    "id": "Xab8A8BBHurK"
   },
   "outputs": [],
   "source": [
    "# use from sklearn.svm import SVC"
   ]
  },
  {
   "cell_type": "code",
   "execution_count": 35,
   "metadata": {
    "colab": {},
    "colab_type": "code",
    "id": "fdamjFXEHurQ"
   },
   "outputs": [],
   "source": [
    "# your insights"
   ]
  },
  {
   "cell_type": "markdown",
   "metadata": {
    "colab_type": "text",
    "id": "Mq-50g3uHurS"
   },
   "source": [
    "# Question 20\n",
    "Scale the data points using MinMaxScaler\n",
    "\n",
    "Fit SVM Model on Scale data and give your observation"
   ]
  },
  {
   "cell_type": "code",
   "execution_count": null,
   "metadata": {
    "colab": {},
    "colab_type": "code",
    "id": "NSLZcoL0HurU"
   },
   "outputs": [],
   "source": []
  },
  {
   "cell_type": "code",
   "execution_count": null,
   "metadata": {
    "colab": {},
    "colab_type": "code",
    "id": "uGkQN3JVHurX"
   },
   "outputs": [],
   "source": []
  },
  {
   "cell_type": "markdown",
   "metadata": {
    "colab_type": "text",
    "id": "hCsfETJ2HurZ"
   },
   "source": [
    "#we can try increasing either C or gamma to fit a more complex model."
   ]
  },
  {
   "cell_type": "markdown",
   "metadata": {
    "colab_type": "text",
    "id": "AoT381TxHure"
   },
   "source": [
    "# Optional Question - \n",
    "Try improving the model accuracy using C=1000 (1 Marks)"
   ]
  },
  {
   "cell_type": "code",
   "execution_count": null,
   "metadata": {
    "colab": {},
    "colab_type": "code",
    "id": "FZN07IhuHurf"
   },
   "outputs": [],
   "source": []
  },
  {
   "cell_type": "markdown",
   "metadata": {
    "colab_type": "text",
    "id": "uy4vnGXeHurj"
   },
   "source": [
    "### Here, increasing C allows us to improve the model, resulting in ??? accuracy.\n",
    "### Let's try to explore different Kernel and C (Bonus for practice)"
   ]
  },
  {
   "cell_type": "code",
   "execution_count": 36,
   "metadata": {
    "colab": {},
    "colab_type": "code",
    "id": "ilPg9hnTHurk"
   },
   "outputs": [],
   "source": [
    "import multiprocessing \n",
    "from sklearn.model_selection import GridSearchCV"
   ]
  },
  {
   "cell_type": "code",
   "execution_count": 37,
   "metadata": {
    "colab": {},
    "colab_type": "code",
    "id": "2Op5Cz2EHurm"
   },
   "outputs": [],
   "source": [
    " param_grid = [    {        \n",
    "     'kernel': ['linear', 'rbf', 'poly', 'sigmoid'],        \n",
    "     'C': [ 0.1, 0.2, 0.4, 0.5, 1.0, 1.5, 1.8, 2.0, 2.5, 3.0 ]    } ]"
   ]
  },
  {
   "cell_type": "code",
   "execution_count": 38,
   "metadata": {
    "colab": {},
    "colab_type": "code",
    "id": "AOCT8zOAHurp"
   },
   "outputs": [
    {
     "ename": "NameError",
     "evalue": "name 'SVC' is not defined",
     "output_type": "error",
     "traceback": [
      "\u001b[1;31m---------------------------------------------------------------------------\u001b[0m",
      "\u001b[1;31mNameError\u001b[0m                                 Traceback (most recent call last)",
      "\u001b[1;32m<ipython-input-38-38f186ab3397>\u001b[0m in \u001b[0;36m<module>\u001b[1;34m\u001b[0m\n\u001b[1;32m----> 1\u001b[1;33m \u001b[0mgs\u001b[0m \u001b[1;33m=\u001b[0m \u001b[0mGridSearchCV\u001b[0m\u001b[1;33m(\u001b[0m\u001b[0mestimator\u001b[0m\u001b[1;33m=\u001b[0m\u001b[0mSVC\u001b[0m\u001b[1;33m(\u001b[0m\u001b[1;33m)\u001b[0m\u001b[1;33m,\u001b[0m \u001b[0mparam_grid\u001b[0m\u001b[1;33m=\u001b[0m\u001b[0mparam_grid\u001b[0m\u001b[1;33m,\u001b[0m\u001b[0mscoring\u001b[0m\u001b[1;33m=\u001b[0m\u001b[1;34m'accuracy'\u001b[0m\u001b[1;33m,\u001b[0m \u001b[0mcv\u001b[0m\u001b[1;33m=\u001b[0m\u001b[1;36m10\u001b[0m\u001b[1;33m,\u001b[0m \u001b[0mn_jobs\u001b[0m\u001b[1;33m=\u001b[0m\u001b[0mmultiprocessing\u001b[0m\u001b[1;33m.\u001b[0m\u001b[0mcpu_count\u001b[0m\u001b[1;33m(\u001b[0m\u001b[1;33m)\u001b[0m\u001b[1;33m)\u001b[0m\u001b[1;33m\u001b[0m\u001b[1;33m\u001b[0m\u001b[0m\n\u001b[0m",
      "\u001b[1;31mNameError\u001b[0m: name 'SVC' is not defined"
     ]
    }
   ],
   "source": [
    "gs = GridSearchCV(estimator=SVC(), param_grid=param_grid,scoring='accuracy', cv=10, n_jobs=multiprocessing.cpu_count())"
   ]
  },
  {
   "cell_type": "code",
   "execution_count": null,
   "metadata": {
    "colab": {},
    "colab_type": "code",
    "id": "yxRfWXkIHurx",
    "outputId": "9075257f-63f5-4df2-e398-32930e40e634"
   },
   "outputs": [],
   "source": [
    "gs.fit(X_train_scaled, y_train) "
   ]
  },
  {
   "cell_type": "code",
   "execution_count": null,
   "metadata": {
    "colab": {},
    "colab_type": "code",
    "id": "P9T6fpUuHur7",
    "outputId": "89989835-2087-4b45-be7b-6bfef63109ed"
   },
   "outputs": [],
   "source": [
    "gs.best_estimator_"
   ]
  },
  {
   "cell_type": "code",
   "execution_count": null,
   "metadata": {
    "colab": {},
    "colab_type": "code",
    "id": "QQRZQ5BXHusD",
    "outputId": "c5f31470-8c94-4580-af58-bfb434840389"
   },
   "outputs": [],
   "source": [
    "gs.best_score_ "
   ]
  }
 ],
 "metadata": {
  "colab": {
   "name": "R3_External_Lab_kNN_Naive_Bayes.ipynb",
   "provenance": [],
   "version": "0.3.2"
  },
  "kernelspec": {
   "display_name": "Python 3",
   "language": "python",
   "name": "python3"
  },
  "language_info": {
   "codemirror_mode": {
    "name": "ipython",
    "version": 3
   },
   "file_extension": ".py",
   "mimetype": "text/x-python",
   "name": "python",
   "nbconvert_exporter": "python",
   "pygments_lexer": "ipython3",
   "version": "3.7.1"
  }
 },
 "nbformat": 4,
 "nbformat_minor": 1
}
